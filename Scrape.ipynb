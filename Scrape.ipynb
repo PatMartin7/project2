{
 "cells": [
  {
   "cell_type": "code",
   "execution_count": 6,
   "id": "cc1ce947",
   "metadata": {},
   "outputs": [
    {
     "ename": "ModuleNotFoundError",
     "evalue": "No module named 'webdriver_manager'",
     "output_type": "error",
     "traceback": [
      "\u001b[0;31m---------------------------------------------------------------------------\u001b[0m",
      "\u001b[0;31mModuleNotFoundError\u001b[0m                       Traceback (most recent call last)",
      "\u001b[0;32m<ipython-input-6-ac38c40708a9>\u001b[0m in \u001b[0;36m<module>\u001b[0;34m\u001b[0m\n\u001b[1;32m      5\u001b[0m \u001b[0;32mfrom\u001b[0m \u001b[0mbs4\u001b[0m \u001b[0;32mimport\u001b[0m \u001b[0mBeautifulSoup\u001b[0m \u001b[0;32mas\u001b[0m \u001b[0mbs\u001b[0m\u001b[0;34m\u001b[0m\u001b[0;34m\u001b[0m\u001b[0m\n\u001b[1;32m      6\u001b[0m \u001b[0;32mimport\u001b[0m \u001b[0mtime\u001b[0m\u001b[0;34m\u001b[0m\u001b[0;34m\u001b[0m\u001b[0m\n\u001b[0;32m----> 7\u001b[0;31m \u001b[0;32mfrom\u001b[0m \u001b[0mwebdriver_manager\u001b[0m\u001b[0;34m.\u001b[0m\u001b[0mchrome\u001b[0m \u001b[0;32mimport\u001b[0m \u001b[0mChromeDriverManager\u001b[0m\u001b[0;34m\u001b[0m\u001b[0;34m\u001b[0m\u001b[0m\n\u001b[0m\u001b[1;32m      8\u001b[0m \u001b[0;32mimport\u001b[0m \u001b[0mpandas\u001b[0m \u001b[0;32mas\u001b[0m \u001b[0mpd\u001b[0m\u001b[0;34m\u001b[0m\u001b[0;34m\u001b[0m\u001b[0m\n\u001b[1;32m      9\u001b[0m \u001b[0;32mimport\u001b[0m \u001b[0mpymongo\u001b[0m\u001b[0;34m\u001b[0m\u001b[0;34m\u001b[0m\u001b[0m\n",
      "\u001b[0;31mModuleNotFoundError\u001b[0m: No module named 'webdriver_manager'"
     ]
    }
   ],
   "source": [
    "from splinter import Browser\n",
    "from bs4 import BeautifulSoup as bs\n",
    "import time\n",
    "from webdriver_manager.chrome import ChromeDriverManager\n",
    "import pandas as pd\n",
    "import pymongo"
   ]
  },
  {
   "cell_type": "code",
   "execution_count": null,
   "id": "3a97e48f",
   "metadata": {},
   "outputs": [],
   "source": [
    "# Initialize PyMongo to work with MongoDBs\n",
    "conn = 'mongodb://localhost:27017'\n",
    "client = pymongo.MongoClient(conn)\n",
    "# Define database and collection\n",
    "db = client.troubles_db\n",
    "collection = db.items"
   ]
  },
  {
   "cell_type": "code",
<<<<<<< HEAD
   "execution_count": null,
   "id": "184bf660",
   "metadata": {},
   "outputs": [],
   "source": [
    "#spacy function to return entity info\n",
    "def show_ents(doc):\n",
    "    if doc.ents:\n",
    "        for ent in doc.ents:\n",
    "            print(ent.text+' - ' +str(ent.start_char) +' - '+ str(ent.end_char) +' - '+ent.label_+ ' - '+str(spacy.explain(ent.label_)))\n",
    "    else:\n",
    "        print('No named entities found.')"
   ]
  },
  {
   "cell_type": "code",
   "execution_count": null,
   "id": "3f731c97",
   "metadata": {},
   "outputs": [],
   "source": [
    "year = '1969'\n",
    "combinedurl = 'https://cain.ulster.ac.uk/sutton/chron/'+year+'.html'\n",
    "tables = pd.read_html(combinedurl)\n",
    "df = tables[1]\n",
    "scrapedf = df.iloc[:,1]\n",
    "len(scrapedf)"
   ]
  },
  {
   "cell_type": "code",
   "execution_count": null,
=======
   "execution_count": 24,
>>>>>>> dd642658262118b01e7bf41e9a3c40d7715f4be8
   "id": "d568aa8d",
   "metadata": {},
   "outputs": [],
   "source": [
    "#list of years\n",
    "#for loop to run scrape for each year\n",
    "#executable_path = {'executable_path': ChromeDriverManager().install()}\n",
    "#browser = Browser('chrome', **executable_path, headless=True)\n",
    "#year = '1969'\n",
    "#url = 'https://cain.ulster.ac.uk/sutton/chron/'+year+'.html'\n",
    "#browser.visit(durl)\n",
    "#\n",
    "#time.sleep(1)\n",
    "#\n",
    "#html = browser.html \n",
    "#soup = bs(html,\"html.parser\")\n",
    "#\n",
    "#find titles\n",
    "#titles = soup.find_all('b')\n",
    "#\n",
    "#for title in titles:\n",
    "#    print(title.prettify())\n"
   ]
  },
  {
   "cell_type": "code",
   "execution_count": null,
   "id": "b9257d94",
   "metadata": {
    "scrolled": true
   },
   "outputs": [],
   "source": [
    "def text_cleanup(dfrow):\n",
    "    death = str(scrapedf[dfrow])\n",
    "    deathsplitspace = death.split()\n",
    "\n",
    "\n",
    "    #dateofdeath string established and parsed\n",
    "    deathindex = deathsplitspace.index(year)\n",
    "    dateofdeath = []\n",
    "    for deathsplitspaceindex in range(deathindex+1):\n",
    "        dateofdeath.append(deathsplitspace[deathsplitspaceindex])\n",
    "    #???:how to convert 'dateofdeath' from string into datetime\n",
    "    print(dateofdeath)\n",
    "\n",
    "    #namestring established\n",
    "    indices = [i for i, s in enumerate(deathsplitspace) if '(' in s]\n",
    "    namestring = []\n",
    "    lastname = []\n",
    "    firstname = []\n",
    "    namerange = range(deathsplitspaceindex+1,indices[0])\n",
    "    for namecomps in range(deathsplitspaceindex+1,indices[0]):\n",
    "        namestring.append(deathsplitspace[namecomps])\n",
    "\n",
    "    #namestring parsing    \n",
    "    for namecomp in namestring:\n",
    "        if namecomp.endswith(\",\") == True:\n",
    "            lastnameendvalue = namecomp\n",
    "            lastnameendindex = namestring.index(lastnameendvalue)\n",
    "    for lastnameind in range(lastnameendindex+1):\n",
    "        lastname.append(namestring[lastnameind])\n",
    "\n",
    "    if lastnameendindex+1 == len(namestring)-1:\n",
    "        firstname.append(namestring[lastnameendindex+1])\n",
    "    else:\n",
    "        for firstnameind in range(lastnameendindex+1,len(namestring)-1):\n",
    "            firstname.append(namestring[firstnameind])\n",
    "    lastname = [s.replace(\",\", \"\") for s in lastname]\n",
    "    print(lastname)\n",
    "    print(firstname)\n",
    "\n",
    "    #affiliation established\n",
    "        #excluding for now\n",
    "\n",
    "    #'killed by' established\n",
    "    killedbystartindices = [i for i, s in enumerate(deathsplitspace) if 'Killed' in s]\n",
    "    killedbyendindices = [i for i, s in enumerate(deathsplitspace) if ')' in s]\n",
    "    killedbystartindice = killedbystartindices[0]\n",
    "    killedbyendindice = killedbyendindices[2]\n",
    "    killedby = []\n",
    "\n",
    "    for killedbycomps in range(killedbystartindice+2,killedbyendindice):\n",
    "        killedby.append(deathsplitspace[killedbycomps])\n",
    "\n",
    "    print(killedby)\n",
    "\n",
    "    #details established\n",
    "    details = []\n",
    "    for detailcomp in range(killedbyendindice, len(deathsplitspace)):\n",
    "        details.append(deathsplitspace[detailcomp])\n",
    "\n",
    "    print(details)\n",
    "    \n",
    "    post = {\n",
    "                'Date of Death': dateofdeath,\n",
    "                'First Name': firstname,\n",
    "                'Last Name': lastname,\n",
    "                'Killed by:': killedby,\n",
    "                'Details':details\n",
    "            }\n",
    "\n",
    "    collection.insert_one(post)\n",
    "\n"
   ]
  },
  {
   "cell_type": "code",
<<<<<<< HEAD
   "execution_count": null,
   "id": "42952aa4",
   "metadata": {},
   "outputs": [],
   "source": [
    "#passing details through NER\n",
    "parsed_details = NER(' '.join(details))\n",
    "\n",
    "for NamedEntity in parsed_details.ents:\n",
    "    show_ents(NamedEntity)"
   ]
  },
  {
   "cell_type": "code",
   "execution_count": null,
=======
   "execution_count": 27,
>>>>>>> dd642658262118b01e7bf41e9a3c40d7715f4be8
   "id": "3ecaf0ce",
   "metadata": {},
   "outputs": [],
   "source": [
    "yearsofdeaths = []\n",
    "for i in range(1969,2002):\n",
    "    yearsofdeaths.append(str(i))\n",
    "    \n",
    "    \n",
    "for year in yearsofdeaths:\n",
    "    combinedurl = 'https://cain.ulster.ac.uk/sutton/chron/'+str(year)+'.html'\n",
    "    tables = pd.read_html(combinedurl)\n",
    "    df = tables[1]\n",
    "    scrapedf = df.iloc[:,1]\n",
    "    for row in range (len(scrapedf)):\n",
    "        text_cleanup(row)"
   ]
  },
  {
   "cell_type": "code",
   "execution_count": null,
   "id": "a5626ac2",
   "metadata": {},
   "outputs": [],
   "source": []
  },
  {
   "cell_type": "code",
   "execution_count": null,
   "id": "1abefdf3",
   "metadata": {},
   "outputs": [],
   "source": []
  }
 ],
 "metadata": {
  "kernelspec": {
   "display_name": "Python 3",
   "language": "python",
   "name": "python3"
  },
  "language_info": {
   "codemirror_mode": {
    "name": "ipython",
    "version": 3
   },
   "file_extension": ".py",
   "mimetype": "text/x-python",
   "name": "python",
   "nbconvert_exporter": "python",
   "pygments_lexer": "ipython3",
   "version": "3.8.8"
  }
 },
 "nbformat": 4,
 "nbformat_minor": 5
}
