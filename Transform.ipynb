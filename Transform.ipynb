{
 "cells": [
  {
   "cell_type": "code",
   "execution_count": 1,
   "id": "cacd9495",
   "metadata": {},
   "outputs": [],
   "source": [
    "#Import necessary libraries\n",
    "import pandas as pd\n",
    "from collections import OrderedDict\n",
    "import numpy as np\n",
    "import requests\n",
    "import json\n",
    "import time\n",
    "from config import api_key\n",
    "from pprint import pprint\n",
    "\n"
   ]
  },
  {
   "cell_type": "code",
   "execution_count": null,
   "id": "fdb76347",
   "metadata": {},
   "outputs": [],
   "source": [
    "#Upload data from csv file for contextual data \n",
    "csv_path = \"McKeown_Spreadsheet_040213.csv\"\n",
    "context_df = pd.read_csv(csv_path, low_memory=False)\n",
    "\n",
    "#Upload sample data from txt file\n",
    "txt_path = 'Example_Scrape_Locations.txt'\n",
    "locations_df = pd.read_csv(txt_path, low_memory=False)\n",
    "locations_df"
   ]
  },
  {
   "cell_type": "code",
   "execution_count": null,
   "id": "615f3b4a",
   "metadata": {},
   "outputs": [],
   "source": [
    "coffee_shops = []\n",
    "params = {}\n",
    "  \n",
    "endpoint_url = \"https://maps.googleapis.com/maps/api/place/textsearch/json?query=coffee+shop&location=35.7790905,-78.642413&radius=2000&region=us&type=cafe,bakery&key=MY_API_KEY\"\n",
    "         \n",
    "res = requests.get(endpoint_url, params = params)\n",
    "results =  json.loads(res.content)\n",
    "coffee_shops.extend(results['results'])\n",
    "time.sleep(2)\n",
    "while \"next_page_token\" in results:\n",
    "     params['pagetoken'] = results['next_page_token'],\n",
    "     res = requests.get(endpoint_url, params = params)\n",
    "     results = json.loads(res.content)\n",
    "     coffee_shops.extend(results['results'])\n",
    "     time.sleep(2)\n",
    "        \n",
    "        \n",
    "        \n"
   ]
  },
  {
   "cell_type": "code",
   "execution_count": 3,
   "id": "a086c931",
   "metadata": {},
   "outputs": [
    {
     "name": "stdout",
     "output_type": "stream",
     "text": [
      "{\n",
      "    \"error_message\": \"The provided API key is expired.\",\n",
      "    \"html_attributions\": [],\n",
      "    \"results\": [],\n",
      "    \"status\": \"REQUEST_DENIED\"\n",
      "}\n"
     ]
    }
   ],
   "source": [
    "# set up a parameters dictionary\n",
    "params = {\n",
    "    \"keyword\": 'Greencastle belfast',\n",
    "    \"key\": api_key\n",
    "}\n",
    "\n",
    "# base url\n",
    "base_url = \"https://maps.googleapis.com/maps/api/place/textsearch/json?query\"\n",
    "\n",
    "# run a request using our params dictionary\n",
    "response = requests.get(base_url, params=params)\n",
    "\n",
    "# convert response to json\n",
    "places = response.json()\n",
    "\n",
    "# Print the json (pretty printed)\n",
    "print(json.dumps(places, indent=4, sort_keys=True))\n",
    "\n",
    "\n"
   ]
  },
  {
   "cell_type": "code",
   "execution_count": null,
   "id": "eb86ee01",
   "metadata": {},
   "outputs": [],
   "source": []
  },
  {
   "cell_type": "code",
   "execution_count": null,
   "id": "00f75aba",
   "metadata": {},
   "outputs": [],
   "source": []
  }
 ],
 "metadata": {
  "kernelspec": {
   "display_name": "Python 3",
   "language": "python",
   "name": "python3"
  },
  "language_info": {
   "codemirror_mode": {
    "name": "ipython",
    "version": 3
   },
   "file_extension": ".py",
   "mimetype": "text/x-python",
   "name": "python",
   "nbconvert_exporter": "python",
   "pygments_lexer": "ipython3",
   "version": "3.8.8"
  }
 },
 "nbformat": 4,
 "nbformat_minor": 5
}
